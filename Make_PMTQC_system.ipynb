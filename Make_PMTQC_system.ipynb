{
 "cells": [
  {
   "cell_type": "code",
   "execution_count": 1,
   "metadata": {},
   "outputs": [
    {
     "name": "stdout",
     "output_type": "stream",
     "text": [
      "Welcome to JupyROOT 6.26/02\n"
     ]
    }
   ],
   "source": [
    "import pandas as pd\n",
    "import pickle\n",
    "import glob\n",
    "import matplotlib.pyplot as plt\n",
    "import numpy as np\n",
    "import root_conv as rtc\n",
    "import afterpulse_analyser.kiyomoto_method as ap\n",
    "import afterpulse_analyser.moduleqc as apm\n",
    "import multiphe_analyser as mp\n",
    "import singlephe_analyser as sgph\n",
    "import pypdf\n",
    "import math\n",
    "import os\n",
    "import math\n",
    "import csv\n",
    "import ROOT as RT\n",
    "import random\n",
    "import uproot\n",
    "import subprocess\n",
    "import time\n",
    "import sys\n",
    "import datetime\n",
    "from scipy.optimize import curve_fit\n",
    "from art import *"
   ]
  },
  {
   "cell_type": "markdown",
   "metadata": {},
   "source": [
    "# 概要\n",
    "- PMTのQuality Checkをするための測定スクリプトを作りたい！\n",
    "- 測定項目\n",
    "    - Single Phe測定\n",
    "        - Gain推定に用いる\n",
    "        - パルス幅\n",
    "        - 収集効率\n",
    "    - Multi Phe測定\n",
    "        - HV依存性\n",
    "        - 時間依存性\n",
    "            - Transit Time\n",
    "            - Transit Time Spread\n",
    "        - アフターパルス\n",
    "    - 管面依存性\n",
    "        - Multi Phe\n",
    "            - 光電面にマスクをかける必要有り..."
   ]
  },
  {
   "cell_type": "markdown",
   "metadata": {},
   "source": [
    "- 測定フローを作成\n",
    "    1. SinglePheを測定(1400V)\n",
    "        1. 1p.e.の光量に絞る\n",
    "        2. 波形取得\n",
    "    2. MultiPheを測定(1400V)\n",
    "        1. TBD p.e.の光量に絞る (900Vでも波形が見える程度に)\n",
    "        2. 波形取得\n",
    "    3. HVを下げていく\n",
    "        1. HV変更\n",
    "        2. 波形取得\n",
    "    \n",
    "    4. Afterpulse\n",
    "        1. HV変更\n",
    "        2. 波形取得\n",
    "    "
   ]
  },
  {
   "cell_type": "markdown",
   "metadata": {},
   "source": [
    "## やること\n",
    "- 測定と解析をスムーズに行うために、測定系を自動化する\n",
    "- SinglePheの測定とMultiPheの測定をスムーズにやりたい\n",
    "    - 光量の推定を自動化できると良いね\n",
    "\n",
    "- <span style=\"color: red; \">問題点</span>\n",
    "    - 残念なことに、HV調整の自動化ができていない...\n",
    "        - TexioのコントローラーがWindowsじゃないと動かない"
   ]
  },
  {
   "cell_type": "markdown",
   "metadata": {},
   "source": [
    "# ということで、現状のDAQシステムをうまく利用して、自動光量推定を行う\n",
    "- # 1p.e.の測定結果を使う"
   ]
  },
  {
   "cell_type": "code",
   "execution_count": 11,
   "metadata": {},
   "outputs": [],
   "source": [
    "#とりあえず適当なPMTの1p.e.の測定データ\n",
    "file = \"/Users/kiyomoto/reaserch/PMT_data/pmt/230811/AC1971/20230811_AC1971_single.root\""
   ]
  },
  {
   "cell_type": "code",
   "execution_count": 12,
   "metadata": {},
   "outputs": [
    {
     "ename": "KeyboardInterrupt",
     "evalue": "",
     "output_type": "error",
     "traceback": [
      "\u001b[0;31m---------------------------------------------------------------------------\u001b[0m",
      "\u001b[0;31mKeyboardInterrupt\u001b[0m                         Traceback (most recent call last)",
      "Input \u001b[0;32mIn [12]\u001b[0m, in \u001b[0;36m<cell line: 3>\u001b[0;34m()\u001b[0m\n\u001b[1;32m      1\u001b[0m \u001b[38;5;66;03m#波形を見てみる\u001b[39;00m\n\u001b[1;32m      2\u001b[0m pyfile \u001b[38;5;241m=\u001b[39m \u001b[38;5;124m\"\u001b[39m\u001b[38;5;124m/Users/kiyomoto/git/Script/show_waveform.py\u001b[39m\u001b[38;5;124m\"\u001b[39m\n\u001b[0;32m----> 3\u001b[0m \u001b[43msubprocess\u001b[49m\u001b[38;5;241;43m.\u001b[39;49m\u001b[43mcall\u001b[49m\u001b[43m(\u001b[49m\u001b[43m[\u001b[49m\u001b[38;5;124;43m\"\u001b[39;49m\u001b[38;5;124;43mipython\u001b[39;49m\u001b[38;5;124;43m\"\u001b[39;49m\u001b[43m,\u001b[49m\u001b[43m \u001b[49m\u001b[43mpyfile\u001b[49m\u001b[43m,\u001b[49m\u001b[43m \u001b[49m\u001b[43mfile\u001b[49m\u001b[43m,\u001b[49m\u001b[43m \u001b[49m\u001b[38;5;124;43m\"\u001b[39;49m\u001b[38;5;124;43mTreesource_0\u001b[39;49m\u001b[38;5;124;43m\"\u001b[39;49m\u001b[43m \u001b[49m\u001b[43m,\u001b[49m\u001b[38;5;124;43m\"\u001b[39;49m\u001b[38;5;124;43mori\u001b[39;49m\u001b[38;5;124;43m\"\u001b[39;49m\u001b[43m,\u001b[49m\u001b[43m \u001b[49m\u001b[38;5;124;43m\"\u001b[39;49m\u001b[38;5;124;43m50000\u001b[39;49m\u001b[38;5;124;43m\"\u001b[39;49m\u001b[43m,\u001b[49m\u001b[38;5;124;43m\"\u001b[39;49m\u001b[38;5;124;43mfig\u001b[39;49m\u001b[38;5;124;43m\"\u001b[39;49m\u001b[43m]\u001b[49m\u001b[43m)\u001b[49m\n",
      "File \u001b[0;32m/opt/anaconda3/envs/root_env/lib/python3.10/subprocess.py:347\u001b[0m, in \u001b[0;36mcall\u001b[0;34m(timeout, *popenargs, **kwargs)\u001b[0m\n\u001b[1;32m    345\u001b[0m \u001b[38;5;28;01mwith\u001b[39;00m Popen(\u001b[38;5;241m*\u001b[39mpopenargs, \u001b[38;5;241m*\u001b[39m\u001b[38;5;241m*\u001b[39mkwargs) \u001b[38;5;28;01mas\u001b[39;00m p:\n\u001b[1;32m    346\u001b[0m     \u001b[38;5;28;01mtry\u001b[39;00m:\n\u001b[0;32m--> 347\u001b[0m         \u001b[38;5;28;01mreturn\u001b[39;00m \u001b[43mp\u001b[49m\u001b[38;5;241;43m.\u001b[39;49m\u001b[43mwait\u001b[49m\u001b[43m(\u001b[49m\u001b[43mtimeout\u001b[49m\u001b[38;5;241;43m=\u001b[39;49m\u001b[43mtimeout\u001b[49m\u001b[43m)\u001b[49m\n\u001b[1;32m    348\u001b[0m     \u001b[38;5;28;01mexcept\u001b[39;00m:  \u001b[38;5;66;03m# Including KeyboardInterrupt, wait handled that.\u001b[39;00m\n\u001b[1;32m    349\u001b[0m         p\u001b[38;5;241m.\u001b[39mkill()\n",
      "File \u001b[0;32m/opt/anaconda3/envs/root_env/lib/python3.10/subprocess.py:1204\u001b[0m, in \u001b[0;36mPopen.wait\u001b[0;34m(self, timeout)\u001b[0m\n\u001b[1;32m   1202\u001b[0m     endtime \u001b[38;5;241m=\u001b[39m _time() \u001b[38;5;241m+\u001b[39m timeout\n\u001b[1;32m   1203\u001b[0m \u001b[38;5;28;01mtry\u001b[39;00m:\n\u001b[0;32m-> 1204\u001b[0m     \u001b[38;5;28;01mreturn\u001b[39;00m \u001b[38;5;28;43mself\u001b[39;49m\u001b[38;5;241;43m.\u001b[39;49m\u001b[43m_wait\u001b[49m\u001b[43m(\u001b[49m\u001b[43mtimeout\u001b[49m\u001b[38;5;241;43m=\u001b[39;49m\u001b[43mtimeout\u001b[49m\u001b[43m)\u001b[49m\n\u001b[1;32m   1205\u001b[0m \u001b[38;5;28;01mexcept\u001b[39;00m \u001b[38;5;167;01mKeyboardInterrupt\u001b[39;00m:\n\u001b[1;32m   1206\u001b[0m     \u001b[38;5;66;03m# https://bugs.python.org/issue25942\u001b[39;00m\n\u001b[1;32m   1207\u001b[0m     \u001b[38;5;66;03m# The first keyboard interrupt waits briefly for the child to\u001b[39;00m\n\u001b[1;32m   1208\u001b[0m     \u001b[38;5;66;03m# exit under the common assumption that it also received the ^C\u001b[39;00m\n\u001b[1;32m   1209\u001b[0m     \u001b[38;5;66;03m# generated SIGINT and will exit rapidly.\u001b[39;00m\n\u001b[1;32m   1210\u001b[0m     \u001b[38;5;28;01mif\u001b[39;00m timeout \u001b[38;5;129;01mis\u001b[39;00m \u001b[38;5;129;01mnot\u001b[39;00m \u001b[38;5;28;01mNone\u001b[39;00m:\n",
      "File \u001b[0;32m/opt/anaconda3/envs/root_env/lib/python3.10/subprocess.py:1938\u001b[0m, in \u001b[0;36mPopen._wait\u001b[0;34m(self, timeout)\u001b[0m\n\u001b[1;32m   1936\u001b[0m \u001b[38;5;28;01mif\u001b[39;00m \u001b[38;5;28mself\u001b[39m\u001b[38;5;241m.\u001b[39mreturncode \u001b[38;5;129;01mis\u001b[39;00m \u001b[38;5;129;01mnot\u001b[39;00m \u001b[38;5;28;01mNone\u001b[39;00m:\n\u001b[1;32m   1937\u001b[0m     \u001b[38;5;28;01mbreak\u001b[39;00m  \u001b[38;5;66;03m# Another thread waited.\u001b[39;00m\n\u001b[0;32m-> 1938\u001b[0m (pid, sts) \u001b[38;5;241m=\u001b[39m \u001b[38;5;28;43mself\u001b[39;49m\u001b[38;5;241;43m.\u001b[39;49m\u001b[43m_try_wait\u001b[49m\u001b[43m(\u001b[49m\u001b[38;5;241;43m0\u001b[39;49m\u001b[43m)\u001b[49m\n\u001b[1;32m   1939\u001b[0m \u001b[38;5;66;03m# Check the pid and loop as waitpid has been known to\u001b[39;00m\n\u001b[1;32m   1940\u001b[0m \u001b[38;5;66;03m# return 0 even without WNOHANG in odd situations.\u001b[39;00m\n\u001b[1;32m   1941\u001b[0m \u001b[38;5;66;03m# http://bugs.python.org/issue14396.\u001b[39;00m\n\u001b[1;32m   1942\u001b[0m \u001b[38;5;28;01mif\u001b[39;00m pid \u001b[38;5;241m==\u001b[39m \u001b[38;5;28mself\u001b[39m\u001b[38;5;241m.\u001b[39mpid:\n",
      "File \u001b[0;32m/opt/anaconda3/envs/root_env/lib/python3.10/subprocess.py:1896\u001b[0m, in \u001b[0;36mPopen._try_wait\u001b[0;34m(self, wait_flags)\u001b[0m\n\u001b[1;32m   1894\u001b[0m \u001b[38;5;250m\u001b[39m\u001b[38;5;124;03m\"\"\"All callers to this function MUST hold self._waitpid_lock.\"\"\"\u001b[39;00m\n\u001b[1;32m   1895\u001b[0m \u001b[38;5;28;01mtry\u001b[39;00m:\n\u001b[0;32m-> 1896\u001b[0m     (pid, sts) \u001b[38;5;241m=\u001b[39m \u001b[43mos\u001b[49m\u001b[38;5;241;43m.\u001b[39;49m\u001b[43mwaitpid\u001b[49m\u001b[43m(\u001b[49m\u001b[38;5;28;43mself\u001b[39;49m\u001b[38;5;241;43m.\u001b[39;49m\u001b[43mpid\u001b[49m\u001b[43m,\u001b[49m\u001b[43m \u001b[49m\u001b[43mwait_flags\u001b[49m\u001b[43m)\u001b[49m\n\u001b[1;32m   1897\u001b[0m \u001b[38;5;28;01mexcept\u001b[39;00m \u001b[38;5;167;01mChildProcessError\u001b[39;00m:\n\u001b[1;32m   1898\u001b[0m     \u001b[38;5;66;03m# This happens if SIGCLD is set to be ignored or waiting\u001b[39;00m\n\u001b[1;32m   1899\u001b[0m     \u001b[38;5;66;03m# for child processes has otherwise been disabled for our\u001b[39;00m\n\u001b[1;32m   1900\u001b[0m     \u001b[38;5;66;03m# process.  This child is dead, we can't get the status.\u001b[39;00m\n\u001b[1;32m   1901\u001b[0m     pid \u001b[38;5;241m=\u001b[39m \u001b[38;5;28mself\u001b[39m\u001b[38;5;241m.\u001b[39mpid\n",
      "\u001b[0;31mKeyboardInterrupt\u001b[0m: "
     ]
    },
    {
     "name": "stdout",
     "output_type": "stream",
     "text": [
      "\u001b[22;0t\u001b]0;IPython: reaserch/231219\u0007"
     ]
    }
   ],
   "source": [
    "#波形を見てみる\n",
    "pyfile = \"/Users/kiyomoto/git/Script/show_waveform.py\"\n",
    "subprocess.call([\"ipython\", pyfile, file, \"Treesource_0\" ,\"ori\", \"50000\",\"fig\"])"
   ]
  },
  {
   "cell_type": "code",
   "execution_count": null,
   "metadata": {},
   "outputs": [
    {
     "name": "stdout",
     "output_type": "stream",
     "text": [
      "\u001b[34mFile Name=> /Users/kiyomoto/reaserch/PMT_data/pmt/230811/AC1971/20230811_AC1971_single.root\u001b[0m\n",
      "Name => Treesource_0;16, Type => TTree\n",
      "Name => Treesource_0;15, Type => TTree\n",
      "Name => Treedark_0;1, Type => TTree\n",
      "[[-3.30e+00  6.70e+00 -1.20e+00 ... -3.60e+00 -2.40e+00 -3.00e+00]\n",
      " [-2.10e+00  5.50e+00 -2.60e+00 ... -3.20e+00 -3.70e+00 -4.30e+00]\n",
      " [-2.50e+00  8.20e+00  6.00e-01 ... -2.00e-01 -8.00e-01 -7.00e-01]\n",
      " ...\n",
      " [-1.10e+00  7.40e+00 -7.00e-01 ...  4.00e-01  0.00e+00 -1.00e-01]\n",
      " [-1.00e+00 -1.21e+02  2.00e-01 ...  9.00e-01  8.00e-01 -1.00e-01]\n",
      " [-1.30e+00  8.20e+00  9.00e-01 ...  6.00e-01  1.40e+00  5.00e-01]]\n",
      "[[-2.60e+00  7.10e+00 -1.40e+00 ... -3.10e+00 -3.20e+00 -3.40e+00]\n",
      " [-1.90e+00  5.90e+00 -2.70e+00 ... -2.00e+00 -2.40e+00 -2.30e+00]\n",
      " [-1.40e+00  9.20e+00  8.00e-01 ...  1.00e-01  4.00e-01 -1.00e-01]\n",
      " ...\n",
      " [ 9.00e-01  1.04e+01  1.10e+00 ...  1.80e+00  2.20e+00  1.40e+00]\n",
      " [ 0.00e+00 -1.37e+02 -3.00e-01 ...  9.00e-01  8.00e-01  6.00e-01]\n",
      " [ 4.00e-01  9.30e+00  8.00e-01 ...  8.00e-01  1.60e+00  8.00e-01]]\n",
      "[[-5.200e+00  4.600e+00 -3.000e+00 ... -2.900e+00 -2.900e+00 -3.300e+00]\n",
      " [-1.200e+00 -1.416e+02 -3.400e+00 ... -2.500e+00 -3.200e+00 -2.900e+00]\n",
      " [-1.900e+00 -1.406e+02 -8.000e-01 ... -1.000e-01 -8.000e-01 -9.000e-01]\n",
      " ...\n",
      " [-2.100e+00  8.100e+00  7.000e-01 ... -9.000e-01 -8.000e-01 -1.000e+00]\n",
      " [ 8.000e-01  8.100e+00 -4.000e-01 ... -1.000e+00 -1.500e+00 -8.000e-01]\n",
      " [ 1.700e+00  9.900e+00  2.600e+00 ...  1.300e+00 -1.000e-01  0.000e+00]]\n",
      "[[-2.900e+00  7.000e+00 -2.200e+00 ... -2.100e+00 -1.400e+00 -2.900e+00]\n",
      " [-1.400e+00 -1.445e+02 -2.100e+00 ... -2.100e+00 -2.100e+00 -1.600e+00]\n",
      " [-2.000e-01 -1.444e+02  9.000e-01 ...  7.000e-01  9.000e-01 -1.000e-01]\n",
      " ...\n",
      " [ 0.000e+00  9.200e+00  7.000e-01 ...  6.000e-01  4.000e-01  6.000e-01]\n",
      " [-1.200e+00  8.300e+00  3.000e-01 ...  0.000e+00 -3.000e-01 -3.000e-01]\n",
      " [ 1.000e+00  9.600e+00  1.000e+00 ...  9.000e-01  1.000e-01  0.000e+00]]\n"
     ]
    }
   ],
   "source": [
    "#uprootで概要を作る(実装はROOT C++の予定?)\n",
    "rtc.tree_name(file)\n",
    "wf = rtc.get_branch_val(file, \"Treesource_0\", \"wform1\") - rtc.get_branch_val(file, \"Treesource_0\", \"wform0\")\n",
    "wf_d = rtc.get_branch_val(file, \"Treedark_0\", \"wform1\") - rtc.get_branch_val(file, \"Treedark_0\", \"wform0\")"
   ]
  },
  {
   "cell_type": "code",
   "execution_count": null,
   "metadata": {},
   "outputs": [
    {
     "data": {
      "text/plain": [
       "<matplotlib.lines.Line2D at 0x28b8316c0>"
      ]
     },
     "execution_count": 19,
     "metadata": {},
     "output_type": "execute_result"
    },
    {
     "data": {
      "image/png": "[encoded data removed]",
      "text/plain": [
       "<Figure size 432x288 with 1 Axes>"
      ]
     },
     "metadata": {
      "needs_background": "light"
     },
     "output_type": "display_data"
    }
   ],
   "source": [
    "# まずは、1p.e.のピークを探す\n",
    "plt.plot(np.average(wf,axis=0))\n",
    "peak = np.argmax(np.average(wf,axis=0))\n",
    "plt.axvline(np.argmax(np.average(wf,axis=0)))"
   ]
  },
  {
   "cell_type": "code",
   "execution_count": null,
   "metadata": {},
   "outputs": [],
   "source": [
    "cell_bind = np.max(wf[:,peak-4:peak+4], axis=1)"
   ]
  },
  {
   "cell_type": "code",
   "execution_count": null,
   "metadata": {},
   "outputs": [
    {
     "data": {
      "text/plain": [
       "array([ 6.7,  6.4,  1.7, ..., -0.6,  0.6,  0.6], dtype=float32)"
      ]
     },
     "execution_count": 41,
     "metadata": {},
     "output_type": "execute_result"
    }
   ],
   "source": [
    "cell_bind"
   ]
  },
  {
   "cell_type": "code",
   "execution_count": null,
   "metadata": {},
   "outputs": [
    {
     "name": "stdout",
     "output_type": "stream",
     "text": [
      "11380\n",
      "0.22759544809103818\n"
     ]
    }
   ],
   "source": [
    "single_phe = []\n",
    "for i in range(len(cell_bind)):\n",
    "    if cell_bind[i] >= 5.0 and cell_bind[i] < 10.0:\n",
    "        single_phe.append(i)\n",
    "print(len(single_phe))\n",
    "print(len(single_phe)/len(cell_bind))"
   ]
  },
  {
   "cell_type": "code",
   "execution_count": null,
   "metadata": {},
   "outputs": [
    {
     "data": {
      "text/plain": [
       "0.2"
      ]
     },
     "execution_count": 49,
     "metadata": {},
     "output_type": "execute_result"
    }
   ],
   "source": [
    "10/50"
   ]
  },
  {
   "cell_type": "code",
   "execution_count": null,
   "metadata": {},
   "outputs": [
    {
     "data": {
      "image/png": "[encoded data removed]",
      "text/plain": [
       "<Figure size 432x288 with 1 Axes>"
      ]
     },
     "metadata": {
      "needs_background": "light"
     },
     "output_type": "display_data"
    }
   ],
   "source": [
    "plt.hist(cell_bind, bins = 330)\n",
    "plt.axvline(10)\n",
    "plt.yscale(\"log\")"
   ]
  },
  {
   "cell_type": "code",
   "execution_count": null,
   "metadata": {},
   "outputs": [],
   "source": [
    "def AnaSingleWF(file, Gain = \"H\",tree_s = \"Treesource_0\", tree_d = \"Treedark_0\"):\n",
    "\n",
    "    #取得するbranch(HGの時は、wform1,0を使用し、LGの時は、wform3,2を使用する)\n",
    "    #※基本的にSingePhe測定はHGで行う\n",
    "    if Gain == \"H\":\n",
    "        wform_pos = \"wform1\"\n",
    "        wform_neg = \"wform0\"\n",
    "        #1p.e.のピーク波高値の範囲(7dyPMTの場合 ※あくまで経験から設定)\n",
    "        thres_min = 5.0\n",
    "        thres_max = 10.0\n",
    "\n",
    "    elif Gain == \"L\":\n",
    "        wform_pos = \"wform3\"\n",
    "        wform_neg = \"wform2\"\n",
    "        #1p.e.のピーク波高値の範囲(7dyPMTの場合 ※あくまで経験から設定)\n",
    "        thres_min = 0.3\n",
    "        thres_max = 0.6\n",
    "\n",
    "    #SourceとDarkの差動電圧をとる\n",
    "    wf = rtc.get_branch_val(file, tree_s, wform_pos) - rtc.get_branch_val(file, tree_s, wform_neg)\n",
    "    wf_d = rtc.get_branch_val(file, tree_d, wform_pos) - rtc.get_branch_val(file, tree_d,  wform_neg)\n",
    "    avf_d = np.average(wf_d)        #Darkの平均波形を取り、ベースラインとする\n",
    "\n",
    "    peak = np.argmax(np.average(wf,axis=0))     #Sourceのピーク位置を取得\n",
    "    cell_bind = np.max(wf[:,peak-4:peak+4], axis=1)     #各イベントピークの前後4cellだけ取り出し、その波高の最大値を取得\n",
    "\n",
    "\n",
    "    #各イベントで1p.e.の波高値の範囲に入っているか探査する\n",
    "    single_phe = []\n",
    "    for i in range(len(cell_bind)):\n",
    "        if cell_bind[i] >= thres_min and cell_bind[i] < thres_max:\n",
    "            single_phe.append(i)\n",
    "    \n",
    "    print(\"1p.e. evnet num => {0} events\".format(len(single_phe)))\n",
    "    print(\"1p.e. Probability of occurrence => {0} p.e.\".format(len(single_phe)/len(cell_bind)))\n",
    "\n",
    "    return len(single_phe), len(single_phe)/len(cell_bind)\n",
    "    "
   ]
  },
  {
   "cell_type": "code",
   "execution_count": null,
   "metadata": {},
   "outputs": [
    {
     "name": "stdout",
     "output_type": "stream",
     "text": [
      "[[-3.30e+00  6.70e+00 -1.20e+00 ... -3.60e+00 -2.40e+00 -3.00e+00]\n",
      " [-2.10e+00  5.50e+00 -2.60e+00 ... -3.20e+00 -3.70e+00 -4.30e+00]\n",
      " [-2.50e+00  8.20e+00  6.00e-01 ... -2.00e-01 -8.00e-01 -7.00e-01]\n",
      " ...\n",
      " [-1.10e+00  7.40e+00 -7.00e-01 ...  4.00e-01  0.00e+00 -1.00e-01]\n",
      " [-1.00e+00 -1.21e+02  2.00e-01 ...  9.00e-01  8.00e-01 -1.00e-01]\n",
      " [-1.30e+00  8.20e+00  9.00e-01 ...  6.00e-01  1.40e+00  5.00e-01]]\n",
      "[[-2.60e+00  7.10e+00 -1.40e+00 ... -3.10e+00 -3.20e+00 -3.40e+00]\n",
      " [-1.90e+00  5.90e+00 -2.70e+00 ... -2.00e+00 -2.40e+00 -2.30e+00]\n",
      " [-1.40e+00  9.20e+00  8.00e-01 ...  1.00e-01  4.00e-01 -1.00e-01]\n",
      " ...\n",
      " [ 9.00e-01  1.04e+01  1.10e+00 ...  1.80e+00  2.20e+00  1.40e+00]\n",
      " [ 0.00e+00 -1.37e+02 -3.00e-01 ...  9.00e-01  8.00e-01  6.00e-01]\n",
      " [ 4.00e-01  9.30e+00  8.00e-01 ...  8.00e-01  1.60e+00  8.00e-01]]\n",
      "[[-5.200e+00  4.600e+00 -3.000e+00 ... -2.900e+00 -2.900e+00 -3.300e+00]\n",
      " [-1.200e+00 -1.416e+02 -3.400e+00 ... -2.500e+00 -3.200e+00 -2.900e+00]\n",
      " [-1.900e+00 -1.406e+02 -8.000e-01 ... -1.000e-01 -8.000e-01 -9.000e-01]\n",
      " ...\n",
      " [-2.100e+00  8.100e+00  7.000e-01 ... -9.000e-01 -8.000e-01 -1.000e+00]\n",
      " [ 8.000e-01  8.100e+00 -4.000e-01 ... -1.000e+00 -1.500e+00 -8.000e-01]\n",
      " [ 1.700e+00  9.900e+00  2.600e+00 ...  1.300e+00 -1.000e-01  0.000e+00]]\n",
      "[[-2.900e+00  7.000e+00 -2.200e+00 ... -2.100e+00 -1.400e+00 -2.900e+00]\n",
      " [-1.400e+00 -1.445e+02 -2.100e+00 ... -2.100e+00 -2.100e+00 -1.600e+00]\n",
      " [-2.000e-01 -1.444e+02  9.000e-01 ...  7.000e-01  9.000e-01 -1.000e-01]\n",
      " ...\n",
      " [ 0.000e+00  9.200e+00  7.000e-01 ...  6.000e-01  4.000e-01  6.000e-01]\n",
      " [-1.200e+00  8.300e+00  3.000e-01 ...  0.000e+00 -3.000e-01 -3.000e-01]\n",
      " [ 1.000e+00  9.600e+00  1.000e+00 ...  9.000e-01  1.000e-01  0.000e+00]]\n",
      "1p.e. evnet num => 11380 events\n",
      "1p.e. Probability of occurrence => 0.22759544809103818 p.e.\n"
     ]
    },
    {
     "data": {
      "text/plain": [
       "(11380, 0.22759544809103818)"
      ]
     },
     "execution_count": 6,
     "metadata": {},
     "output_type": "execute_result"
    }
   ],
   "source": [
    "AnaSingleWF(file)"
   ]
  },
  {
   "cell_type": "code",
   "execution_count": null,
   "metadata": {},
   "outputs": [],
   "source": [
    "#DRS4の操作\n",
    "def RunHageFusaScript(file, tree, eventnum, serial=2386, delay = 60, freq=5.0):\n",
    "    READDrs4_path = '/Users/cta/Software/JustReadDrs4_Sunada_20210408/ReadDrs4'\n",
    "    try:\n",
    "        subprocess.call([READDrs4_path,'-s','{0}'.format(serial),'-i','0','-f','{1}'.format(freq),'-d','{2}'.format(delay),'-e','{3}'.format(eventnum),'-m','{4}'.format(tree),'-n','0','-O','{5}'.format(file)])\n",
    "    except:\n",
    "        print(\"ERROR with DRS4!\")\n",
    "\n",
    "def CalDrs4():\n",
    "    READDrs4_path = '/Users/cta/Software/JustReadDrs4_Sunada_20210408/ReadDrs4'\n",
    "    try:\n",
    "        subprocess.call([READDrs4_path, '-c', 'time', '-f', '5.0'])\n",
    "    except:\n",
    "        print(\"DRS4 Callibration Error!\")\n",
    "    \n",
    "    try:\n",
    "        subprocess.call([READDrs4_path, '-c', 'volt', '-f', '5.0'])\n",
    "    except:\n",
    "        print(\"DRS4 Callibration Error!\")\n",
    "\n",
    "    print(\"Callibration Done!\")\n",
    "    "
   ]
  },
  {
   "cell_type": "code",
   "execution_count": null,
   "metadata": {},
   "outputs": [],
   "source": [
    "#FilterWheelの操作\n",
    "def ChangeFW(fw_num):\n",
    "    subprocess.call(['multi-filterwheel', '{0}'.format(fw_num)])\n",
    "    time.sleep(3)"
   ]
  },
  {
   "cell_type": "code",
   "execution_count": 2,
   "metadata": {},
   "outputs": [],
   "source": [
    "class PMT_Merin_sys:\n",
    "    def __init__(self):\n",
    "        #パラメータの初期化\n",
    "        self.Anapath = '/Users/kiyomoto/'\n",
    "        self.SingleLit = 28     #SinglePheのFW光量\n",
    "        self.MultiLit = 15      #MultiPheのFW光量\n",
    "        self.APLit = 11      #AfterpulseのFW光量\n",
    "        self.Treename_s = \"source\"\n",
    "        self.Treename_d = \"dark\"\n",
    "        self.hv = 1400      #HVの初期値は1400で固定\n",
    "        self.event_s = 50000    #Sourceイベント数\n",
    "        self.event_d = 1000     #Darkイベント数\n",
    "\n",
    "        Art=text2art(\"PMT\")\n",
    "        print(Art)\n",
    "        print(\"~~~ Welcome to PMT measurement System!! (v0.9) ~~~\")\n",
    "        b = False\n",
    "        while b == False:\n",
    "            self.pmt_serial = input(\"Please input PMT serial number?\")\n",
    "            print(\"Your PMT => {0}\".format(self.pmt_serial))\n",
    "            key = input(\"IS it OK? (y/n)\")\n",
    "            if key == \"y\":\n",
    "                b = True\n",
    "\n",
    "        self.date = self.GetToday()[1]\n",
    "        s = 1\n",
    "        if s == 0:\n",
    "            self.path = self.CreateDir()\n",
    "\n",
    "        self.Call()\n",
    "    \n",
    "    def Call(self):\n",
    "        mode = self.ShowMode()\n",
    "        self.RunMeasurement(mode)\n",
    "\n",
    "    def RunMeasurement(self, key):\n",
    "        if key == 1:\n",
    "            a = 1\n",
    "            self.Set1PELight()\n",
    "            self.SinglePheMeasurement()\n",
    "        elif key == 2:\n",
    "            a = 2\n",
    "            self.MultiPheMeasurement()\n",
    "        elif key == 3:\n",
    "            a = 3\n",
    "            print(\"Function is not READY...\")\n",
    "        elif key == 4:\n",
    "            a = 4\n",
    "            self.HVGainMeasurement()\n",
    "        elif key == 5:\n",
    "            a = 5\n",
    "            print(\"Function is not READY...\")\n",
    "        elif key == 6:\n",
    "            a = 6\n",
    "            print(\"Function is not READY...\")\n",
    "        elif key == 7:\n",
    "            a = 7\n",
    "            print(\"Function is not READY...\")\n",
    "        elif key == 8:\n",
    "            a = 8\n",
    "            print(\"Function is not READY...\")\n",
    "        p = input(\"Continuing? =>(y/n)\")\n",
    "        if p == \"n\":\n",
    "            print(\"end!!\")\n",
    "        elif p == \"y\":\n",
    "            self.Call()\n",
    "\n",
    "    def ShowMode(self):\n",
    "        print(\"##############################\")\n",
    "        print(\"Which items are measured??\")\n",
    "        print(\"1. SinglePhe\")\n",
    "        print(\"2. MultiPhe\")\n",
    "        print(\"3. Pulse Width\")\n",
    "        print(\"4. HV-Gain Curve\")\n",
    "        print(\"5. Transit Time\")\n",
    "        print(\"6. Transit Time Spread\")\n",
    "        print(\"7. Afterpulse\")\n",
    "        print(\"8. Photocathod Dependency\")\n",
    "        print('q. Exit')\n",
    "        print(\"##############################\")\n",
    "\n",
    "        key = input(\"please enter the mode =>(1~9 or q)\")\n",
    "        if key == \"q\":\n",
    "            print(\"End Process\")\n",
    "            #os._exit(os.EX_OK)\n",
    "            #sys.exit()\n",
    "        else:\n",
    "            return key\n",
    "        \n",
    "    def GetToday(self):\n",
    "        t_delta = datetime.timedelta(hours=9)\n",
    "        JST = datetime.timezone(t_delta, 'JST')\n",
    "        now = datetime.datetime.now(JST)\n",
    "        Y = now.strftime('%Y%m%d')\n",
    "        y = now.strftime('%y%m%d')\n",
    "        #print(d) \n",
    "        return Y, y\n",
    "\n",
    "    def CreateDir(self, item = ''):\n",
    "        Y, y = self.GetToday()\n",
    "        dir_exsist = os.path.exists(self.Anapath+'/{0}/{1}/'.format(y, self.pmt_serial))\n",
    "        #print(self.Anapath+'/{0}/{1}/'.format(y, self.pmt_serial))\n",
    "        if dir_exsist == True:\n",
    "            print(\"Result Directory is Already Exsists!!\")\n",
    "            key = input(\"is it OK to continue?(y/n)\")\n",
    "            if key == \"n\":\n",
    "                sys.exists()\n",
    "        else:\n",
    "            os.makedirs(self.Anapath+'/{0}/{1}/{2}'.format(y, self.pmt_serial, item))\n",
    "\n",
    "        return self.Anapath+'/{0}/{1}/{2}'.format(y, self.pmt_serial, item)\n",
    "\n",
    "    def GetPmtSerial(self):\n",
    "        print(\"PMT Serial num => {0}\".format(self.pmt_serial))\n",
    "        return self.pmt_serial\n",
    "\n",
    "    def Getdynodenum(self):\n",
    "        if self.pmt_serial.startswith(\"ZQ\"):\n",
    "            dynode_num = 8\n",
    "            print(\"PMT Serial => {0} ({1}dynode PMT)\".format(self.pmt_serial, dynode_num))\n",
    "        elif self.pmt_serial.startswith(\"AA\"):\n",
    "            dynode_num = 7\n",
    "            print(\"PMT Serial => {0} ({1}dynode PMT)\".format(self.pmt_serial, dynode_num))\n",
    "        return dynode_num\n",
    "    \n",
    "    def SetHV(self):\n",
    "        print(\"Setting HV...\")\n",
    "        self.hv = input(\"Please Check Power Supplyer and Enter HV-val ==> \")\n",
    "\n",
    "    def Set1PELight(self):\n",
    "\n",
    "        #光量の調整\n",
    "        flag = False\n",
    "        while flag == False:\n",
    "            ChangeFW(self.SingleLit)\n",
    "            RunHageFusaScript(self.path+\"temp.root\", self.Treename_s, 2000)\n",
    "            ChangeFW(36)\n",
    "            RunHageFusaScript(self.path+\"temp.root\", self.Treename_d, self.event_d)\n",
    "            counts, rate = AnaSingleWF(self.path+\"temp.root\")\n",
    "            if rate < 0.2:\n",
    "                self.SingleLit += 1\n",
    "            elif rate > 0.5:\n",
    "                self.SingleLit -= 1\n",
    "            else:\n",
    "                flag = True\n",
    "\n",
    "        #光量調整終了\n",
    "        print(\"SinglePhe Lit => {0}\".format(self.SingleLit))\n",
    "\n",
    "    def SinglePheMeasurement(self):\n",
    "        self.SetHV(self)\n",
    "        singlepe_path = self.CreateDir(self, item = 'SinglePhe_{0}V'.format(self.hv))\n",
    "        file_name = self.date + '_' + self.pmt_serial + '_' + 'SinglePhe_{0}V'.format(self.hv) + \".root\"\n",
    "\n",
    "        ChangeFW(self.SingleLit)\n",
    "        RunHageFusaScript(singlepe_path+file_name, self.Treename_s, self.event_s)\n",
    "        ChangeFW(36)\n",
    "        RunHageFusaScript(singlepe_path+file_name, self.Treename_d, self.event_d)\n",
    "\n",
    "    def MultiPheMeasurement(self):\n",
    "        self.SetHV(self)\n",
    "        multipe_path = self.CreateDir(self, item = 'MultiPhe_{0}V'.format(self.hv))\n",
    "        file_name = self.date + '_' + self.pmt_serial + '_' + 'MultiPhe_{0}V'.format(self.hv) + \".root\"\n",
    "\n",
    "        ChangeFW(self.MultiLit)\n",
    "        RunHageFusaScript(multipe_path+file_name, self.Treename_s, self.event_s)\n",
    "        ChangeFW(36)\n",
    "        RunHageFusaScript(multipe_path+file_name, self.Treename_d, self.event_d)\n",
    "\n",
    "    def HVGainMeasurement(self):\n",
    "        multipe_path = self.CreateDir(self, item = 'HVGainCurve')\n",
    "        for hv in range(1400, 800, -100):\n",
    "            input('{0}V Measurement Start! Please Check Power Supplyer! Continue?=>(y/n)'.format(hv))\n",
    "            file_name = self.date + '_' + self.pmt_serial + '_' + 'MultiPhe_{0}V'.format(hv) + \".root\"\n",
    "            ChangeFW(self.MultiLit)\n",
    "            RunHageFusaScript(multipe_path+file_name, self.Treename_s, self.event_s)\n",
    "            ChangeFW(36)\n",
    "            RunHageFusaScript(multipe_path+file_name, self.Treename_d, self.event_d)\n",
    "\n",
    "            print('{0}V Measurement Done!'.format(hv))\n",
    "        print(\"End HV-Gain Measurement\")\n",
    "        \n",
    "    "
   ]
  },
  {
   "cell_type": "code",
   "execution_count": null,
   "metadata": {},
   "outputs": [
    {
     "name": "stdout",
     "output_type": "stream",
     "text": [
      "/Users/kiyomoto/pmt/\n"
     ]
    }
   ],
   "source": [
    "print(\"/Users/kiyomoto/{0}/{1}\".format(\"pmt\", ''))"
   ]
  },
  {
   "cell_type": "code",
   "execution_count": null,
   "metadata": {},
   "outputs": [
    {
     "name": "stdout",
     "output_type": "stream",
     "text": [
      "/Users/kiyomoto/pmt/\n"
     ]
    }
   ],
   "source": [
    "print(\"/Users/kiyomoto/{0}/\".format(\"pmt\"))"
   ]
  },
  {
   "cell_type": "code",
   "execution_count": 3,
   "metadata": {},
   "outputs": [
    {
     "name": "stdout",
     "output_type": "stream",
     "text": [
      " ____   __  __  _____ \n",
      "|  _ \\ |  \\/  ||_   _|\n",
      "| |_) || |\\/| |  | |  \n",
      "|  __/ | |  | |  | |  \n",
      "|_|    |_|  |_|  |_|  \n",
      "                      \n",
      "\n",
      "~~~ Welcome to PMT measurement System!! (v0.9) ~~~\n",
      "Your PMT => AA2339\n",
      "##############################\n",
      "Which items are measured??\n",
      "1. SinglePhe\n",
      "2. MultiPhe\n",
      "3. Pulse Width\n",
      "4. HV-Gain Curve\n",
      "5. Transit Time\n",
      "6. Transit Time Spread\n",
      "7. Afterpulse\n",
      "8. Photocathod Dependency\n",
      "q. Exit\n",
      "##############################\n",
      "end!!\n"
     ]
    }
   ],
   "source": [
    "hoge = PMT_Merin_sys()"
   ]
  },
  {
   "cell_type": "code",
   "execution_count": null,
   "metadata": {},
   "outputs": [
    {
     "name": "stdout",
     "output_type": "stream",
     "text": [
      "/Users/hoge/231220/y/\n"
     ]
    }
   ],
   "source": [
    "hoge.CreateDir()"
   ]
  },
  {
   "cell_type": "code",
   "execution_count": null,
   "metadata": {},
   "outputs": [
    {
     "name": "stdout",
     "output_type": "stream",
     "text": [
      "PMT Serial num => ZQ6666\n",
      "PMT Serial => ZQ6666 (8dynode PMT)\n",
      "20231220\n"
     ]
    }
   ],
   "source": [
    "hoge.GetPmtSerial()\n",
    "hoge.Getdynodenum()\n",
    "hoge.GetToday()"
   ]
  },
  {
   "cell_type": "code",
   "execution_count": null,
   "metadata": {},
   "outputs": [
    {
     "name": "stdout",
     "output_type": "stream",
     "text": [
      "20231220\n"
     ]
    }
   ],
   "source": [
    "t_delta = datetime.timedelta(hours=9)\n",
    "JST = datetime.timezone(t_delta, 'JST')\n",
    "now = datetime.datetime.now(JST)\n",
    "d = now.strftime('%Y%m%d')\n",
    "print(d)  # 20211104173728"
   ]
  },
  {
   "cell_type": "code",
   "execution_count": null,
   "metadata": {},
   "outputs": [
    {
     "data": {
      "text/plain": [
       "['', '2312', '']"
      ]
     },
     "execution_count": 47,
     "metadata": {},
     "output_type": "execute_result"
    }
   ],
   "source": [
    "d.split(\"20\")"
   ]
  },
  {
   "cell_type": "code",
   "execution_count": null,
   "metadata": {},
   "outputs": [],
   "source": []
  }
 ],
 "metadata": {
  "kernelspec": {
   "display_name": "root_env",
   "language": "python",
   "name": "python3"
  },
  "language_info": {
   "codemirror_mode": {
    "name": "ipython",
    "version": 3
   },
   "file_extension": ".py",
   "mimetype": "text/x-python",
   "name": "python",
   "nbconvert_exporter": "python",
   "pygments_lexer": "ipython3",
   "version": "3.10.4"
  }
 },
 "nbformat": 4,
 "nbformat_minor": 2
}
